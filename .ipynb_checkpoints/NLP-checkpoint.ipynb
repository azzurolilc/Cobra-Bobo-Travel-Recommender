{
 "cells": [
  {
   "cell_type": "code",
   "execution_count": null,
   "metadata": {
    "collapsed": false
   },
   "outputs": [
    {
     "name": "stdout",
     "output_type": "stream",
     "text": [
      "showing info https://raw.githubusercontent.com/nltk/nltk_data/gh-pages/index.xml\n"
     ]
    }
   ],
   "source": [
    "from nltk.corpus import wordnet as wn\n",
    "nltk.download()\n",
    "panda = wn.synset('panda.n.01')\n",
    "hyper = lambda s : s.hypernyms()\n",
    "list(panda.closure(hyper))"
   ]
  },
  {
   "cell_type": "code",
   "execution_count": null,
   "metadata": {
    "collapsed": true
   },
   "outputs": [],
   "source": [
    "import numpy as np\n",
    "la = np.linalg\n",
    "words = ['I','like','enjoy','deep','learning','NLP','flying','.']\n",
    "X = np.array([[0,2,1,0,0,0,0,0],\n",
    "             [2,0,0,1,0,1,0,0],\n",
    "             [1,0,0,0,0,0,1,0],\n",
    "             [0,1,0,0,1,0,0,0],\n",
    "             [0,0,0,1,0,0,0,1],\n",
    "             [0,1,0,0,0,0,0,1],\n",
    "             [0,0,1,0,0,0,0,1],\n",
    "             [0,0,0,0,1,1,1,0]])\n",
    "U,s,Vh = la.svd(X, full_matrices = False)"
   ]
  },
  {
   "cell_type": "code",
   "execution_count": null,
   "metadata": {
    "collapsed": true
   },
   "outputs": [],
   "source": []
  }
 ],
 "metadata": {
  "kernelspec": {
   "display_name": "Python 3",
   "language": "python",
   "name": "python3"
  },
  "language_info": {
   "codemirror_mode": {
    "name": "ipython",
    "version": 3
   },
   "file_extension": ".py",
   "mimetype": "text/x-python",
   "name": "python",
   "nbconvert_exporter": "python",
   "pygments_lexer": "ipython3",
   "version": "3.4.3"
  }
 },
 "nbformat": 4,
 "nbformat_minor": 0
}
